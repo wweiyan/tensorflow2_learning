{
 "cells": [
  {
   "cell_type": "code",
   "execution_count": 1,
   "metadata": {},
   "outputs": [],
   "source": [
    "#加载进程包\n",
    "import tensorflow as tf\n",
    "from tensorflow.keras import layers\n",
    "import numpy as np"
   ]
  },
  {
   "cell_type": "code",
   "execution_count": null,
   "metadata": {},
   "outputs": [],
   "source": [
    "model = tf.keras.Sequential()\n",
    "model.add(layers.Dense(32, activation='relu'))\n",
    "model.add(layers.Dense(32, activation='relu'))\n",
    "model.add(layers.Dense(10, activation='softmax'))"
   ]
  },
  {
   "cell_type": "markdown",
   "metadata": {},
   "source": [
    "kernel_initializer 和 bias_initializer：创建层权重（核和偏差）的初始化方案。此参数是一个名称或可调用对象，默认为 \"Glorot uniform\" 初始化器。\n",
    "kernel_regularizer 和 bias_regularizer：应用层权重（核和偏差）的正则化方案，例如 L1 或 L2 正则化。默认情况下，系统不会应用正则化函数。"
   ]
  },
  {
   "cell_type": "code",
   "execution_count": null,
   "metadata": {},
   "outputs": [],
   "source": [
    "layers.Dense(32, activation='sigmoid')\n",
    "layers.Dense(32, activation=tf.sigmoid)\n",
    "layers.Dense(32, kernel_initializer='orthogonal')\n",
    "layers.Dense(32, kernel_initializer=tf.keras.initializers.glorot_normal)\n",
    "layers.Dense(32, kernel_regularizer=tf.keras.regularizers.l2(0.01))\n",
    "layers.Dense(32, kernel_regularizer=tf.keras.regularizers.l1(0.01))"
   ]
  },
  {
   "cell_type": "code",
   "execution_count": 2,
   "metadata": {},
   "outputs": [],
   "source": [
    "#加载模型，添加节点\n",
    "model = tf.keras.Sequential()\n",
    "model.add(layers.Dense(32, activation='relu'))\n",
    "model.add(layers.Dense(32, activation='relu'))\n",
    "model.add(layers.Dense(10, activation='softmax'))\n",
    "model.compile(optimizer=tf.keras.optimizers.Adam(0.001),\n",
    "             loss=tf.keras.losses.categorical_crossentropy,\n",
    "             metrics=[tf.keras.metrics.categorical_accuracy])"
   ]
  },
  {
   "cell_type": "code",
   "execution_count": 3,
   "metadata": {},
   "outputs": [],
   "source": [
    "train_x = np.random.random((1000, 72))\n",
    "train_y = np.random.random((1000, 10))\n",
    "\n",
    "val_x = np.random.random((200, 72))\n",
    "val_y = np.random.random((200, 10))"
   ]
  },
  {
   "cell_type": "code",
   "execution_count": 4,
   "metadata": {},
   "outputs": [
    {
     "name": "stderr",
     "output_type": "stream",
     "text": [
      "WARNING: Logging before flag parsing goes to stderr.\n",
      "W0515 11:19:25.993784 13500 training_utils.py:1353] Expected a shuffled dataset but input dataset `x` is not shuffled. Please invoke `shuffle()` on input dataset.\n"
     ]
    },
    {
     "name": "stdout",
     "output_type": "stream",
     "text": [
      "Epoch 1/10\n",
      "30/30 [==============================] - 1s 42ms/step - loss: 11.6944 - categorical_accuracy: 0.0994 - val_loss: 12.1283 - val_categorical_accuracy: 0.0521\n",
      "Epoch 2/10\n",
      "30/30 [==============================] - 0s 3ms/step - loss: 12.8590 - categorical_accuracy: 0.0871 - val_loss: 14.7388 - val_categorical_accuracy: 0.0625\n",
      "Epoch 3/10\n",
      "30/30 [==============================] - 0s 2ms/step - loss: 17.6250 - categorical_accuracy: 0.0926 - val_loss: 20.7795 - val_categorical_accuracy: 0.0833\n",
      "Epoch 4/10\n",
      "30/30 [==============================] - 0s 2ms/step - loss: 24.3957 - categorical_accuracy: 0.1000 - val_loss: 31.7615 - val_categorical_accuracy: 0.0833\n",
      "Epoch 5/10\n",
      "30/30 [==============================] - 0s 2ms/step - loss: 39.5453 - categorical_accuracy: 0.1073 - val_loss: 49.3709 - val_categorical_accuracy: 0.0833\n",
      "Epoch 6/10\n",
      "30/30 [==============================] - 0s 2ms/step - loss: 58.3431 - categorical_accuracy: 0.0940 - val_loss: 68.3206 - val_categorical_accuracy: 0.0833\n",
      "Epoch 7/10\n",
      "30/30 [==============================] - 0s 2ms/step - loss: 74.9826 - categorical_accuracy: 0.0926 - val_loss: 80.8194 - val_categorical_accuracy: 0.1250\n",
      "Epoch 8/10\n",
      "30/30 [==============================] - 0s 2ms/step - loss: 82.8605 - categorical_accuracy: 0.0853 - val_loss: 86.0037 - val_categorical_accuracy: 0.0417\n",
      "Epoch 9/10\n",
      "30/30 [==============================] - 0s 2ms/step - loss: 91.1869 - categorical_accuracy: 0.0756 - val_loss: 96.9354 - val_categorical_accuracy: 0.0625\n",
      "Epoch 10/10\n",
      "30/30 [==============================] - 0s 2ms/step - loss: 106.0975 - categorical_accuracy: 0.0600 - val_loss: 113.3667 - val_categorical_accuracy: 0.0521\n"
     ]
    },
    {
     "data": {
      "text/plain": [
       "<tensorflow.python.keras.callbacks.History at 0x288ca415f98>"
      ]
     },
     "execution_count": 4,
     "metadata": {},
     "output_type": "execute_result"
    }
   ],
   "source": [
    "dataset = tf.data.Dataset.from_tensor_slices((train_x, train_y))\n",
    "dataset = dataset.batch(32)\n",
    "dataset = dataset.repeat()\n",
    "val_dataset = tf.data.Dataset.from_tensor_slices((val_x, val_y))\n",
    "val_dataset = val_dataset.batch(32)\n",
    "val_dataset = val_dataset.repeat()\n",
    "\n",
    "model.fit(dataset, epochs=10, steps_per_epoch=30,\n",
    "          validation_data=val_dataset, validation_steps=3)"
   ]
  },
  {
   "cell_type": "code",
   "execution_count": 5,
   "metadata": {},
   "outputs": [
    {
     "name": "stdout",
     "output_type": "stream",
     "text": [
      "1000/1000 [==============================] - 0s 144us/sample - loss: 113.1981 - categorical_accuracy: 0.1080\n",
      "30/30 [==============================] - 0s 1ms/step - loss: 113.2354 - categorical_accuracy: 0.1094\n",
      "[[1.9623420e-07 2.3547412e-01 2.6316464e-02 ... 3.0044156e-01\n",
      "  2.7178324e-20 3.7190267e-01]\n",
      " [1.8310928e-07 3.6111680e-01 2.2336954e-02 ... 3.3024868e-01\n",
      "  2.7595886e-20 2.3355334e-01]\n",
      " [1.1693886e-07 3.1215626e-01 4.0776402e-02 ... 2.4174628e-01\n",
      "  6.9014724e-21 3.5885134e-01]\n",
      " ...\n",
      " [6.0920542e-08 2.9439694e-01 1.9271178e-02 ... 3.2443881e-01\n",
      "  1.3149447e-21 3.1715539e-01]\n",
      " [6.4062341e-08 4.6089232e-01 3.0900486e-02 ... 1.9803382e-01\n",
      "  1.7403066e-21 2.6883611e-01]\n",
      " [6.9067664e-07 2.8229073e-01 3.9258156e-02 ... 2.7247232e-01\n",
      "  1.2165222e-18 3.5187444e-01]]\n"
     ]
    }
   ],
   "source": [
    "test_x = np.random.random((1000, 72))\n",
    "test_y = np.random.random((1000, 10))\n",
    "model.evaluate(test_x, test_y, batch_size=32)\n",
    "test_data = tf.data.Dataset.from_tensor_slices((test_x, test_y))\n",
    "test_data = test_data.batch(32).repeat()\n",
    "model.evaluate(test_data, steps=30)\n",
    "# predict\n",
    "result = model.predict(test_x, batch_size=32)\n",
    "print(result)"
   ]
  },
  {
   "cell_type": "code",
   "execution_count": 6,
   "metadata": {},
   "outputs": [
    {
     "data": {
      "text/plain": [
       "(1000, 10)"
      ]
     },
     "execution_count": 6,
     "metadata": {},
     "output_type": "execute_result"
    }
   ],
   "source": [
    "result.shape"
   ]
  },
  {
   "cell_type": "code",
   "execution_count": null,
   "metadata": {},
   "outputs": [],
   "source": []
  },
  {
   "cell_type": "code",
   "execution_count": null,
   "metadata": {},
   "outputs": [],
   "source": []
  },
  {
   "cell_type": "code",
   "execution_count": null,
   "metadata": {},
   "outputs": [],
   "source": []
  },
  {
   "cell_type": "code",
   "execution_count": null,
   "metadata": {},
   "outputs": [],
   "source": []
  },
  {
   "cell_type": "code",
   "execution_count": null,
   "metadata": {},
   "outputs": [],
   "source": []
  },
  {
   "cell_type": "code",
   "execution_count": null,
   "metadata": {},
   "outputs": [],
   "source": []
  }
 ],
 "metadata": {
  "kernelspec": {
   "display_name": "Python 3",
   "language": "python",
   "name": "python3"
  },
  "language_info": {
   "codemirror_mode": {
    "name": "ipython",
    "version": 3
   },
   "file_extension": ".py",
   "mimetype": "text/x-python",
   "name": "python",
   "nbconvert_exporter": "python",
   "pygments_lexer": "ipython3",
   "version": "3.7.3"
  }
 },
 "nbformat": 4,
 "nbformat_minor": 2
}
